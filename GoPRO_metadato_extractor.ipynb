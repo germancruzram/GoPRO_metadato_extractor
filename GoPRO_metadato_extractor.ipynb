{
  "nbformat": 4,
  "nbformat_minor": 0,
  "metadata": {
    "colab": {
      "provenance": [],
      "authorship_tag": "ABX9TyOTLEt/PNt795XtSArg7kqF",
      "include_colab_link": true
    },
    "kernelspec": {
      "name": "python3",
      "display_name": "Python 3"
    },
    "language_info": {
      "name": "python"
    }
  },
  "cells": [
    {
      "cell_type": "markdown",
      "metadata": {
        "id": "view-in-github",
        "colab_type": "text"
      },
      "source": [
        "<a href=\"https://colab.research.google.com/github/germancruzram/GoPRO_metadato_extractor/blob/main/GoPRO_metadato_extractor.ipynb\" target=\"_parent\"><img src=\"https://colab.research.google.com/assets/colab-badge.svg\" alt=\"Open In Colab\"/></a>"
      ]
    },
    {
      "cell_type": "markdown",
      "source": [
        "# **HERRAMIENTA PARA EXTRAER METADATOS DE VIDEOS MP4 DE CAMARAS GOPRO.**\n",
        "\n"
      ],
      "metadata": {
        "id": "6miDshz9KviE"
      }
    },
    {
      "cell_type": "markdown",
      "source": [
        "Ing. German Ahmed Cruz Ramírez. 🇳  \n",
        "ahmedcr_net@hotmail.com"
      ],
      "metadata": {
        "id": "Wb6Nxbd0EOjY"
      }
    },
    {
      "cell_type": "markdown",
      "source": [
        "**INFORMACION QUE SE EXTRAE DEL MP4 - GoPRO:** 📸\n",
        "\n",
        "\n",
        "1.   **IMG TIMESTAMPS** Tiempos en segundos de cada fotograma del video, usados para sincronizar datos.\n",
        "\n",
        "2.   **SHUT (Shutter):** Información sobre el obturador, como la velocidad de obturación.\n",
        "\n",
        "3.   **ACCL (Accelerometer):** Medidas de aceleración en tres ejes (X, Y, Z), útiles para analizar movimiento.\n",
        "\n",
        "4.   **GYRO (Gyroscope):** Velocidad angular en tres ejes, importante para entender la rotación de la cámara.\n",
        "\n",
        "5.   **GPS5:** Datos de posición GPS, incluyendo latitud, longitud, y altitud.\n",
        "\n",
        "6.   **GRAV (Gravity Vector):** Vector de gravedad, usado para determinar la orientación respecto a la gravedad.\n",
        "\n",
        "7.   **MAGN (Magnetometer):** Medidas del campo magnético en tres ejes, para determinar la dirección cardinal.\n",
        "\n",
        "8.   **CORI (Corrected Orientation):** Orientación corregida de la cámara.\n",
        "\n",
        "9.   **IORI (Initial Orientation):** Orientación inicial de la cámara al inicio de la grabación.\n",
        "\n",
        "10.   **GPSP (GPS Precision):** Precisión de las lecturas de GPS.\n",
        "\n",
        "11.   **GPSF (GPS Fix):** Estado del \"fix\" de GPS, indicando si la posición es válida.\n",
        "\n",
        "12.   **GPSU (GPS Update):** Frecuencia de actualización del GPS"
      ],
      "metadata": {
        "id": "LvB3dYiCLDki"
      }
    },
    {
      "cell_type": "markdown",
      "source": [
        "# **1. Instalando las librerias necesarias**"
      ],
      "metadata": {
        "id": "Ztk6AMU8Fto1"
      }
    },
    {
      "cell_type": "code",
      "source": [
        "!pip install telemetry-parser\n",
        "!pip install py-gpmf-parser # install the missing module\n",
        "from py_gpmf_parser.gopro_telemetry_extractor import GoProTelemetryExtractor\n",
        "import os\n",
        "import json\n",
        "import glob\n",
        "import py_gpmf_parser as pgfp\n",
        "import numpy as np"
      ],
      "metadata": {
        "id": "dARjjRdU70g0"
      },
      "execution_count": null,
      "outputs": []
    },
    {
      "cell_type": "markdown",
      "source": [
        "# **2. Testeando el video MP4**"
      ],
      "metadata": {
        "id": "BXCfnobnH2Uc"
      }
    },
    {
      "cell_type": "code",
      "source": [
        "import subprocess\n",
        "\n",
        "def extract_gps_from_mp4(mp4_file):\n",
        "  # Ejecuta exiftool para extraer metadatos GPS\n",
        "  result = subprocess.run(['exiftool', '-gpslatitude', '-gpslongitude', mp4_file], stdout=subprocess.PIPE, text=True)\n",
        "  output = result.stdout\n",
        "\n",
        "  # Procesa la salida para obtener las coordenadas\n",
        "  gps_data = {}\n",
        "  for line in output.splitlines():\n",
        "      if 'GPS Latitude' in line:\n",
        "          gps_data['latitude'] = line.split(': ')[1].strip()\n",
        "      elif 'GPS Longitude' in line:\n",
        "          gps_data['longitude'] = line.split(': ')[1].strip()\n",
        "\n",
        "  return gps_data\n",
        "\n",
        "# Especifica la ruta a tu archivo MP4\n",
        "mp4_file = '/content/GX016233.MP4'\n",
        "\n",
        "# Extrae datos GPS\n",
        "gps_data = extract_gps_from_mp4(mp4_file)\n",
        "print(gps_data)"
      ],
      "metadata": {
        "colab": {
          "base_uri": "https://localhost:8080/"
        },
        "id": "8lV21eJG1qhf",
        "outputId": "8b0aa788-9b91-4616-d313-e96d4601231d"
      },
      "execution_count": null,
      "outputs": [
        {
          "output_type": "stream",
          "name": "stdout",
          "text": [
            "{'latitude': '18 deg 32\\' 14.64\" S', 'longitude': '67 deg 54\\' 16.56\" W'}\n"
          ]
        }
      ]
    },
    {
      "cell_type": "markdown",
      "source": [
        "# **3. Creando un archivo formato JSON con la información extraida**"
      ],
      "metadata": {
        "id": "CPglumlaS1ke"
      }
    },
    {
      "cell_type": "code",
      "source": [
        "# Ruta de tu archivo de video\n",
        "video_path = \"/content/GX016233.MP4\"\n",
        "\n",
        "# Creamos el extractor\n",
        "extractor = GoProTelemetryExtractor(video_path)\n",
        "\n",
        "# Abrimos el archivo fuente\n",
        "extractor.open_source()\n",
        "\n",
        "# Extraemos varios tipos de datos\n",
        "data_types = [\"SHUT\", \"ACCL\", \"GYRO\", \"GPS5\", \"GRAV\", \"MAGN\", \"CORI\", \"IORI\", \"GPSP\", \"GPSF\", \"GPSU\"]\n",
        "extracted_data = {}\n",
        "\n",
        "for data_type in data_types:\n",
        "    data, timestamps = extractor.extract_data(data_type)\n",
        "    if data is not None:\n",
        "        extracted_data[data_type] = {\n",
        "            \"data\": data.tolist() if hasattr(data, 'tolist') else data,\n",
        "            \"timestamps\": timestamps.tolist() if hasattr(timestamps, 'tolist') else timestamps\n",
        "        }\n",
        "\n",
        "# Obtenemos las marcas de tiempo de las imágenes\n",
        "image_timestamps = extractor.get_image_timestamps_s()\n",
        "extracted_data[\"IMAGE_TIMESTAMPS\"] = image_timestamps.tolist() if hasattr(image_timestamps, 'tolist') else image_timestamps\n",
        "\n",
        "# Cerramos el extractor\n",
        "extractor.close_source()\n",
        "\n",
        "# Guardamos los datos extraídos en un archivo JSON\n",
        "output_json_path = \"/content/GX016233_telemetry.json\"\n",
        "with open(output_json_path, 'w') as f:\n",
        "    json.dump(extracted_data, f)\n",
        "\n",
        "print(f\"Datos de telemetría extraídos y guardados en {output_json_path}\")\n",
        "\n",
        "# Mostramos un resumen de los datos extraídos\n",
        "for data_type, data in extracted_data.items():\n",
        "    if isinstance(data, dict) and \"data\" in data:\n",
        "        print(f\"{data_type}: {len(data['data'])} puntos de datos\")\n",
        "    elif isinstance(data, list):\n",
        "        print(f\"{data_type}: {len(data)} puntos de datos\")"
      ],
      "metadata": {
        "colab": {
          "base_uri": "https://localhost:8080/"
        },
        "id": "RuQyDtt18LMd",
        "outputId": "b8b38960-6ab6-480d-aa9c-73dc3346d541"
      },
      "execution_count": null,
      "outputs": [
        {
          "output_type": "stream",
          "name": "stdout",
          "text": [
            "Requirement already satisfied: py-gpmf-parser in /usr/local/lib/python3.10/dist-packages (0.0.3)\n",
            "Datos de telemetría extraídos y guardados en /content/GX016233_telemetry.json\n",
            "SHUT: 2159 puntos de datos\n",
            "ACCL: 14491 puntos de datos\n",
            "GYRO: 14491 puntos de datos\n",
            "GPS5: 720 puntos de datos\n",
            "GRAV: 2159 puntos de datos\n",
            "MAGN: 0 puntos de datos\n",
            "CORI: 2159 puntos de datos\n",
            "IORI: 2159 puntos de datos\n",
            "GPSP: 72 puntos de datos\n",
            "GPSF: 72 puntos de datos\n",
            "GPSU: 0 puntos de datos\n",
            "IMAGE_TIMESTAMPS: 2159 puntos de datos\n"
          ]
        }
      ]
    },
    {
      "cell_type": "code",
      "source": [
        "class GoProTelemetryExtractor:\n",
        "    def __init__(self, mp4_filepath):\n",
        "        self.mp4_filepath = mp4_filepath\n",
        "        self.handle = None\n",
        "\n",
        "    def open_source(self):\n",
        "        if self.handle is None:\n",
        "            self.handle = pgfp.OpenMP4Source(self.mp4_filepath, pgfp.MOV_GPMF_TRAK_TYPE, pgfp.MOV_GPMF_TRAK_SUBTYPE, 0)\n",
        "        else:\n",
        "            raise ValueError(\"Source is already opened!\")\n",
        "\n",
        "    def close_source(self):\n",
        "        if self.handle is not None:\n",
        "            pgfp.CloseSource(self.handle)\n",
        "            self.handle = None\n",
        "        else:\n",
        "            raise ValueError(\"No source to close!\")\n",
        "\n",
        "    def get_image_timestamps_s(self):\n",
        "        if self.handle is None:\n",
        "            raise ValueError(\"Source is not opened!\")\n",
        "\n",
        "        num_frames, numer, denom = pgfp.GetVideoFrameRateAndCount(self.handle)\n",
        "        frametime = denom / numer\n",
        "        timestamps = []\n",
        "        for i in range(num_frames):\n",
        "            timestamps.append(i * frametime)\n",
        "        return np.array(timestamps)\n",
        "\n",
        "    def extract_data(self, sensor_type):\n",
        "        if self.handle is None:\n",
        "            raise ValueError(\"Source is not opened!\")\n",
        "\n",
        "        results = []\n",
        "        timestamps = []\n",
        "\n",
        "        rate, start, end = pgfp.GetGPMFSampleRate(self.handle, pgfp.Str2FourCC(sensor_type), pgfp.Str2FourCC(\"SHUT\"))\n",
        "\n",
        "        num_payloads = pgfp.GetNumberPayloads(self.handle)\n",
        "        for i in range(num_payloads):\n",
        "            payloadsize = pgfp.GetPayloadSize(self.handle, i)\n",
        "            res_handle = 0\n",
        "            res_handle = pgfp.GetPayloadResource(self.handle, res_handle, payloadsize)\n",
        "            payload = pgfp.GetPayload(self.handle, res_handle, i, payloadsize)\n",
        "\n",
        "            ret, t_in, t_out = pgfp.GetPayloadTime(self.handle, i)\n",
        "\n",
        "            delta_t = t_out - t_in\n",
        "\n",
        "            ret, stream = pgfp.GPMF_Init(payload, payloadsize)\n",
        "            if ret != pgfp.GPMF_ERROR.GPMF_OK:\n",
        "                continue\n",
        "\n",
        "            while pgfp.GPMF_ERROR.GPMF_OK == pgfp.GPMF_FindNext(stream, pgfp.Str2FourCC(\"STRM\"), pgfp.GPMF_RECURSE_LEVELS_AND_TOLERANT):\n",
        "                if pgfp.GPMF_ERROR.GPMF_OK != pgfp.GPMF_FindNext(stream, pgfp.Str2FourCC(sensor_type), pgfp.GPMF_RECURSE_LEVELS_AND_TOLERANT):\n",
        "                    continue\n",
        "\n",
        "                key = pgfp.GPMF_Key(stream)\n",
        "                elements = pgfp.GPMF_ElementsInStruct(stream)\n",
        "                rawdata = pgfp.GPMF_RawData(stream)\n",
        "                samples = pgfp.GPMF_Repeat(stream)\n",
        "                if samples:\n",
        "                    buffersize = samples * elements * 8\n",
        "                    ret, data = pgfp.GPMF_ScaledData(stream, buffersize, 0, samples, pgfp.GPMF_SampleType.DOUBLE)\n",
        "                    data = data[:samples * elements]\n",
        "                    if pgfp.GPMF_ERROR.GPMF_OK == ret:\n",
        "                        results.extend(np.reshape(data, (-1, elements)))\n",
        "                        timestamps.extend([t_in + i * delta_t / samples for i in range(samples)])\n",
        "            pgfp.GPMF_ResetState(stream)\n",
        "\n",
        "        return np.array(results), np.array(timestamps) + start\n",
        "\n",
        "    def extract_data_to_json(self, json_file, sensor_types=[\"ACCL\", \"GYRO\", \"GPS5\"]):\n",
        "        out_dict = {\"img_timestamps_s\": self.get_image_timestamps_s().tolist()}\n",
        "        for sensor in sensor_types:\n",
        "            data, timestamps = self.extract_data(sensor)\n",
        "            out_dict.update({sensor: {\"data\": data.tolist(), \"timestamps_s\": timestamps.tolist()}})\n",
        "        with open(json_file, \"w\") as f:\n",
        "            json.dump(out_dict, f)\n",
        "\n",
        "# Ruta de tu archivo de video\n",
        "video_path = \"/content/GX016233.MP4\"\n",
        "\n",
        "# Creamos el extractor\n",
        "extractor = GoProTelemetryExtractor(video_path)\n",
        "\n",
        "# Abrimos el archivo fuente\n",
        "extractor.open_source()\n",
        "\n",
        "# Guardamos los datos extraídos en un archivo JSON\n",
        "output_json_path = \"/content/GX016233_telemetry.json\"\n",
        "extractor.extract_data_to_json(output_json_path, sensor_types=[\"SHUT\", \"ACCL\", \"GYRO\", \"GPS5\", \"GRAV\", \"MAGN\", \"CORI\", \"IORI\", \"GPSP\", \"GPSF\", \"GPSU\"])\n",
        "\n",
        "# Cerramos el extractor\n",
        "extractor.close_source()\n",
        "\n",
        "print(f\"Datos de telemetría extraídos y guardados en {output_json_path}\")\n",
        "\n",
        "# Mostramos un resumen de los datos extraídos\n",
        "with open(output_json_path, 'r') as f:\n",
        "    extracted_data = json.load(f)\n",
        "    for data_type, data in extracted_data.items():\n",
        "        if isinstance(data, dict) and \"data\" in data:\n",
        "            print(f\"{data_type}: {len(data['data'])} puntos de datos\")\n",
        "        elif isinstance(data, list):\n",
        "            print(f\"{data_type}: {len(data)} puntos de datos\")"
      ],
      "metadata": {
        "colab": {
          "base_uri": "https://localhost:8080/"
        },
        "id": "C1xdtcwiAfRy",
        "outputId": "58b76f8f-b53f-467c-ee80-706c26edbdd0"
      },
      "execution_count": null,
      "outputs": [
        {
          "output_type": "stream",
          "name": "stdout",
          "text": [
            "Requirement already satisfied: py-gpmf-parser in /usr/local/lib/python3.10/dist-packages (0.0.3)\n",
            "Datos de telemetría extraídos y guardados en /content/GX016233_telemetry.json\n",
            "img_timestamps_s: 2159 puntos de datos\n",
            "SHUT: 2159 puntos de datos\n",
            "ACCL: 14491 puntos de datos\n",
            "GYRO: 14491 puntos de datos\n",
            "GPS5: 720 puntos de datos\n",
            "GRAV: 2159 puntos de datos\n",
            "MAGN: 0 puntos de datos\n",
            "CORI: 2159 puntos de datos\n",
            "IORI: 2159 puntos de datos\n",
            "GPSP: 72 puntos de datos\n",
            "GPSF: 72 puntos de datos\n",
            "GPSU: 0 puntos de datos\n"
          ]
        }
      ]
    },
    {
      "cell_type": "markdown",
      "source": [
        "# **4. Construyendo formatos estandar GPX y NMEA con las posiciones GPS**"
      ],
      "metadata": {
        "id": "82HPVlnvThpM"
      }
    },
    {
      "cell_type": "code",
      "source": [
        "import json\n",
        "import gpxpy\n",
        "import gpxpy.gpx\n",
        "from datetime import datetime, timezone\n",
        "\n",
        "# Cargar el archivo JSON de telemetría\n",
        "try:\n",
        "  with open('/content/GX016233_telemetry.json', 'r') as f:\n",
        "      telemetry_data = json.load(f)\n",
        "except FileNotFoundError:\n",
        "  print(\"El archivo de telemetría no se encontró. Asegúrate de que el archivo existe en la ubicación correcta.\")\n",
        "  exit()\n",
        "\n",
        "# Imprimir un resumen de las claves principales del JSON\n",
        "print(\"Claves principales en el JSON:\", list(telemetry_data.keys()))\n",
        "\n",
        "# Verificar si las claves existen\n",
        "gps_data = telemetry_data.get('GPS5', {}).get('data')\n",
        "gps_timestamps = telemetry_data.get('GPS5', {}).get('timestamps_s')  # Cambiado a 'timestamps_s'\n",
        "\n",
        "if gps_data is None or gps_timestamps is None:\n",
        "  print(\"Los datos GPS o los timestamps no se encontraron en el archivo JSON.\")\n",
        "  exit()\n",
        "\n",
        "# 1. Crear archivo GPX\n",
        "gpx = gpxpy.gpx.GPX()\n",
        "gpx_track = gpxpy.gpx.GPXTrack()\n",
        "gpx.tracks.append(gpx_track)\n",
        "gpx_segment = gpxpy.gpx.GPXTrackSegment()\n",
        "gpx_track.segments.append(gpx_segment)\n",
        "\n",
        "for timestamp, gps in zip(gps_timestamps, gps_data):\n",
        "  # Convertir el timestamp a datetime\n",
        "  dt = datetime.fromtimestamp(timestamp, timezone.utc)\n",
        "\n",
        "  # Crear un punto GPX\n",
        "  gpx_point = gpxpy.gpx.GPXTrackPoint(\n",
        "      latitude=gps[0],\n",
        "      longitude=gps[1],\n",
        "      elevation=gps[2],\n",
        "      time=dt\n",
        "  )\n",
        "\n",
        "  # Añadir el punto al segmento\n",
        "  gpx_segment.points.append(gpx_point)\n",
        "\n",
        "# Guardar el archivo GPX\n",
        "with open('/content/gps_route.gpx', 'w') as gpxfile:\n",
        "  gpxfile.write(gpx.to_xml())\n",
        "\n",
        "print(\"Archivo GPX creado: /content/gps_route.gpx\")\n",
        "\n",
        "# 2. Crear archivo NMEA\n",
        "def create_nmea_sentence(lat, lon, alt, timestamp):\n",
        "  dt = datetime.fromtimestamp(timestamp, timezone.utc)\n",
        "  lat_deg = int(abs(lat))\n",
        "  lat_min = (abs(lat) - lat_deg) * 60\n",
        "  lon_deg = int(abs(lon))\n",
        "  lon_min = (abs(lon) - lon_deg) * 60\n",
        "  lat_hemisphere = 'N' if lat >= 0 else 'S'\n",
        "  lon_hemisphere = 'E' if lon >= 0 else 'W'\n",
        "\n",
        "  nmea = f\"$GPGGA,{dt.strftime('%H%M%S')},{lat_deg:02d}{lat_min:07.4f},{lat_hemisphere},{lon_deg:03d}{lon_min:07.4f},{lon_hemisphere},1,08,1.0,{alt:.1f},M,0.0,M,,\"\n",
        "  checksum = 0\n",
        "  for char in nmea[1:]:\n",
        "      checksum ^= ord(char)\n",
        "  return f\"{nmea}*{checksum:02X}\\n\"\n",
        "\n",
        "with open('/content/gps_route.nmea', 'w') as nmeafile:\n",
        "  for timestamp, gps in zip(gps_timestamps, gps_data):\n",
        "      nmeafile.write(create_nmea_sentence(gps[0], gps[1], gps[2], timestamp))\n",
        "\n",
        "print(\"Archivo NMEA creado: /content/gps_route.nmea\")"
      ],
      "metadata": {
        "colab": {
          "base_uri": "https://localhost:8080/"
        },
        "id": "NCYrw7F0BtO7",
        "outputId": "01f007d6-ecdc-45cd-f29b-da928aba7725"
      },
      "execution_count": null,
      "outputs": [
        {
          "output_type": "stream",
          "name": "stdout",
          "text": [
            "Claves principales en el JSON: ['img_timestamps_s', 'SHUT', 'ACCL', 'GYRO', 'GPS5', 'GRAV', 'MAGN', 'CORI', 'IORI', 'GPSP', 'GPSF', 'GPSU']\n",
            "Archivo GPX creado: /content/gps_route.gpx\n",
            "Archivo NMEA creado: /content/gps_route.nmea\n"
          ]
        }
      ]
    },
    {
      "cell_type": "markdown",
      "source": [
        "# **5. CREANDO UN MAPA CON LA UBICACION CON LOS METADATOS DEL VIDEO**"
      ],
      "metadata": {
        "id": "qHBWOpOXDtFr"
      }
    },
    {
      "cell_type": "code",
      "source": [
        "import folium\n",
        "import gpxpy\n",
        "\n",
        "# Ruta al archivo GPX\n",
        "gpx_file_path = '/content/gps_route.gpx'\n",
        "\n",
        "# Leer el archivo GPX\n",
        "with open(gpx_file_path, 'r') as gpx_file:\n",
        "  gpx = gpxpy.parse(gpx_file)\n",
        "\n",
        "# Verificar si hay datos en el GPX\n",
        "if gpx.tracks and gpx.tracks[0].segments:\n",
        "  first_track = gpx.tracks[0]\n",
        "  first_segment = first_track.segments[0]\n",
        "  start_point = first_segment.points[0]\n",
        "  map_center = [start_point.latitude, start_point.longitude]\n",
        "else:\n",
        "  map_center = [0, 0]  # Fallback si no hay datos\n",
        "\n",
        "# Crear el mapa centrado en el primer punto\n",
        "mymap = folium.Map(location=map_center, zoom_start=13)\n",
        "\n",
        "# Añadir la ruta GPX al mapa\n",
        "for track in gpx.tracks:\n",
        "  for segment in track.segments:\n",
        "      points = [(point.latitude, point.longitude) for point in segment.points]\n",
        "      folium.PolyLine(points, color='blue', weight=2.5, opacity=1).add_to(mymap)\n",
        "\n",
        "# Mostrar el mapa en el notebook\n",
        "mymap\n"
      ],
      "metadata": {
        "colab": {
          "base_uri": "https://localhost:8080/",
          "height": 839
        },
        "id": "qP69HAWnFtDO",
        "outputId": "ada04f8a-5115-4779-de86-748429a78440"
      },
      "execution_count": null,
      "outputs": [
        {
          "output_type": "execute_result",
          "data": {
            "text/plain": [
              "<folium.folium.Map at 0x7bfab0ad4ca0>"
            ],
            "text/html": [
              "<div style=\"width:100%;\"><div style=\"position:relative;width:100%;height:0;padding-bottom:60%;\"><span style=\"color:#565656\">Make this Notebook Trusted to load map: File -> Trust Notebook</span><iframe srcdoc=\"&lt;!DOCTYPE html&gt;\n",
              "&lt;html&gt;\n",
              "&lt;head&gt;\n",
              "    \n",
              "    &lt;meta http-equiv=&quot;content-type&quot; content=&quot;text/html; charset=UTF-8&quot; /&gt;\n",
              "    \n",
              "        &lt;script&gt;\n",
              "            L_NO_TOUCH = false;\n",
              "            L_DISABLE_3D = false;\n",
              "        &lt;/script&gt;\n",
              "    \n",
              "    &lt;style&gt;html, body {width: 100%;height: 100%;margin: 0;padding: 0;}&lt;/style&gt;\n",
              "    &lt;style&gt;#map {position:absolute;top:0;bottom:0;right:0;left:0;}&lt;/style&gt;\n",
              "    &lt;script src=&quot;https://cdn.jsdelivr.net/npm/leaflet@1.9.3/dist/leaflet.js&quot;&gt;&lt;/script&gt;\n",
              "    &lt;script src=&quot;https://code.jquery.com/jquery-3.7.1.min.js&quot;&gt;&lt;/script&gt;\n",
              "    &lt;script src=&quot;https://cdn.jsdelivr.net/npm/bootstrap@5.2.2/dist/js/bootstrap.bundle.min.js&quot;&gt;&lt;/script&gt;\n",
              "    &lt;script src=&quot;https://cdnjs.cloudflare.com/ajax/libs/Leaflet.awesome-markers/2.0.2/leaflet.awesome-markers.js&quot;&gt;&lt;/script&gt;\n",
              "    &lt;link rel=&quot;stylesheet&quot; href=&quot;https://cdn.jsdelivr.net/npm/leaflet@1.9.3/dist/leaflet.css&quot;/&gt;\n",
              "    &lt;link rel=&quot;stylesheet&quot; href=&quot;https://cdn.jsdelivr.net/npm/bootstrap@5.2.2/dist/css/bootstrap.min.css&quot;/&gt;\n",
              "    &lt;link rel=&quot;stylesheet&quot; href=&quot;https://netdna.bootstrapcdn.com/bootstrap/3.0.0/css/bootstrap-glyphicons.css&quot;/&gt;\n",
              "    &lt;link rel=&quot;stylesheet&quot; href=&quot;https://cdn.jsdelivr.net/npm/@fortawesome/fontawesome-free@6.2.0/css/all.min.css&quot;/&gt;\n",
              "    &lt;link rel=&quot;stylesheet&quot; href=&quot;https://cdnjs.cloudflare.com/ajax/libs/Leaflet.awesome-markers/2.0.2/leaflet.awesome-markers.css&quot;/&gt;\n",
              "    &lt;link rel=&quot;stylesheet&quot; href=&quot;https://cdn.jsdelivr.net/gh/python-visualization/folium/folium/templates/leaflet.awesome.rotate.min.css&quot;/&gt;\n",
              "    \n",
              "            &lt;meta name=&quot;viewport&quot; content=&quot;width=device-width,\n",
              "                initial-scale=1.0, maximum-scale=1.0, user-scalable=no&quot; /&gt;\n",
              "            &lt;style&gt;\n",
              "                #map_53df59c62797c5f4e225a54a797608ee {\n",
              "                    position: relative;\n",
              "                    width: 100.0%;\n",
              "                    height: 100.0%;\n",
              "                    left: 0.0%;\n",
              "                    top: 0.0%;\n",
              "                }\n",
              "                .leaflet-container { font-size: 1rem; }\n",
              "            &lt;/style&gt;\n",
              "        \n",
              "&lt;/head&gt;\n",
              "&lt;body&gt;\n",
              "    \n",
              "    \n",
              "            &lt;div class=&quot;folium-map&quot; id=&quot;map_53df59c62797c5f4e225a54a797608ee&quot; &gt;&lt;/div&gt;\n",
              "        \n",
              "&lt;/body&gt;\n",
              "&lt;script&gt;\n",
              "    \n",
              "    \n",
              "            var map_53df59c62797c5f4e225a54a797608ee = L.map(\n",
              "                &quot;map_53df59c62797c5f4e225a54a797608ee&quot;,\n",
              "                {\n",
              "                    center: [-18.5374323, -67.9046171],\n",
              "                    crs: L.CRS.EPSG3857,\n",
              "                    zoom: 13,\n",
              "                    zoomControl: true,\n",
              "                    preferCanvas: false,\n",
              "                }\n",
              "            );\n",
              "\n",
              "            \n",
              "\n",
              "        \n",
              "    \n",
              "            var tile_layer_8f540a0a91a0b69fd6db052ec4bee84c = L.tileLayer(\n",
              "                &quot;https://tile.openstreetmap.org/{z}/{x}/{y}.png&quot;,\n",
              "                {&quot;attribution&quot;: &quot;\\u0026copy; \\u003ca href=\\&quot;https://www.openstreetmap.org/copyright\\&quot;\\u003eOpenStreetMap\\u003c/a\\u003e contributors&quot;, &quot;detectRetina&quot;: false, &quot;maxNativeZoom&quot;: 19, &quot;maxZoom&quot;: 19, &quot;minZoom&quot;: 0, &quot;noWrap&quot;: false, &quot;opacity&quot;: 1, &quot;subdomains&quot;: &quot;abc&quot;, &quot;tms&quot;: false}\n",
              "            );\n",
              "        \n",
              "    \n",
              "            tile_layer_8f540a0a91a0b69fd6db052ec4bee84c.addTo(map_53df59c62797c5f4e225a54a797608ee);\n",
              "        \n",
              "    \n",
              "            var poly_line_2b784449dbccc08ce50c46d7a31a1e94 = L.polyline(\n",
              "                [[-18.5374323, -67.9046171], [-18.5374321, -67.9046171], [-18.5374321, -67.9046171], [-18.537432, -67.9046172], [-18.5374319, -67.9046172], [-18.5374319, -67.9046172], [-18.5374318, -67.9046172], [-18.5374317, -67.9046172], [-18.5374316, -67.9046173], [-18.5374315, -67.9046173], [-18.5374315, -67.9046173], [-18.5374314, -67.9046173], [-18.5374313, -67.9046174], [-18.5374313, -67.9046174], [-18.5374312, -67.9046175], [-18.5374311, -67.9046175], [-18.5374311, -67.9046175], [-18.537431, -67.9046175], [-18.537431, -67.9046176], [-18.5374309, -67.9046176], [-18.5374308, -67.9046176], [-18.5374308, -67.9046177], [-18.5374307, -67.9046177], [-18.5374306, -67.9046177], [-18.5374305, -67.9046178], [-18.5374305, -67.9046178], [-18.5374304, -67.9046179], [-18.5374304, -67.9046179], [-18.5374303, -67.9046179], [-18.5374302, -67.9046179], [-18.5374301, -67.904618], [-18.5374301, -67.904618], [-18.53743, -67.9046181], [-18.5374299, -67.9046181], [-18.5374299, -67.9046181], [-18.5374299, -67.9046182], [-18.5374298, -67.9046182], [-18.5374298, -67.9046182], [-18.5374297, -67.9046183], [-18.5374297, -67.9046183], [-18.5374297, -67.9046183], [-18.5374296, -67.9046184], [-18.5374296, -67.9046184], [-18.5374296, -67.9046184], [-18.5374295, -67.9046185], [-18.5374294, -67.9046185], [-18.5374294, -67.9046185], [-18.5374293, -67.9046185], [-18.5374292, -67.9046184], [-18.537429, -67.9046183], [-18.5374288, -67.9046181], [-18.5374285, -67.9046178], [-18.5374281, -67.9046175], [-18.5374277, -67.9046171], [-18.5374271, -67.9046166], [-18.5374265, -67.904616], [-18.5374259, -67.9046154], [-18.5374251, -67.9046147], [-18.5374243, -67.904614], [-18.5374233, -67.9046132], [-18.5374224, -67.9046124], [-18.5374214, -67.9046115], [-18.5374201, -67.9046107], [-18.5374189, -67.9046096], [-18.5374178, -67.9046086], [-18.5374163, -67.9046076], [-18.5374149, -67.9046064], [-18.5374134, -67.9046052], [-18.5374117, -67.904604], [-18.53741, -67.9046027], [-18.5374083, -67.9046014], [-18.5374064, -67.9046001], [-18.5374047, -67.9045987], [-18.5374027, -67.9045972], [-18.5374008, -67.9045957], [-18.5373987, -67.904594], [-18.5373966, -67.9045924], [-18.5373944, -67.9045907], [-18.5373922, -67.9045889], [-18.5373899, -67.904587], [-18.5373875, -67.904585], [-18.537385, -67.9045829], [-18.5373826, -67.9045807], [-18.53738, -67.9045786], [-18.5373774, -67.9045763], [-18.5373748, -67.9045738], [-18.5373722, -67.9045713], [-18.5373695, -67.9045687], [-18.5373667, -67.904566], [-18.5373639, -67.9045633], [-18.537361, -67.9045605], [-18.537358, -67.9045576], [-18.5373551, -67.9045545], [-18.5373521, -67.9045515], [-18.537349, -67.9045483], [-18.5373458, -67.9045451], [-18.5373426, -67.9045418], [-18.5373393, -67.9045385], [-18.537336, -67.904535], [-18.5373327, -67.9045315], [-18.5373292, -67.9045279], [-18.5373257, -67.9045242], [-18.5373222, -67.9045205], [-18.5373186, -67.9045167], [-18.5373149, -67.9045129], [-18.5373112, -67.9045088], [-18.5373074, -67.9045048], [-18.5373036, -67.9045005], [-18.5372998, -67.9044963], [-18.5372958, -67.9044919], [-18.5372918, -67.9044875], [-18.5372877, -67.904483], [-18.5372836, -67.9044783], [-18.5372794, -67.9044736], [-18.5372752, -67.9044688], [-18.5372708, -67.9044639], [-18.5372665, -67.9044589], [-18.5372621, -67.9044539], [-18.5372577, -67.9044487], [-18.5372533, -67.9044437], [-18.5372489, -67.9044386], [-18.5372445, -67.9044336], [-18.5372401, -67.9044286], [-18.5372357, -67.9044236], [-18.5372313, -67.9044186], [-18.5372268, -67.9044135], [-18.5372224, -67.9044085], [-18.5372181, -67.9044035], [-18.5372137, -67.9043983], [-18.5372093, -67.9043933], [-18.5372049, -67.9043883], [-18.5372005, -67.9043832], [-18.5371961, -67.9043782], [-18.5371917, -67.9043731], [-18.5371873, -67.9043679], [-18.5371828, -67.9043627], [-18.5371783, -67.9043575], [-18.5371737, -67.9043522], [-18.5371691, -67.9043468], [-18.5371643, -67.9043414], [-18.5371596, -67.9043359], [-18.5371548, -67.9043303], [-18.53715, -67.9043247], [-18.5371451, -67.904319], [-18.5371402, -67.9043132], [-18.5371351, -67.9043073], [-18.53713, -67.9043013], [-18.5371249, -67.9042952], [-18.5371197, -67.904289], [-18.5371144, -67.9042828], [-18.5371091, -67.9042765], [-18.5371038, -67.9042701], [-18.5370983, -67.9042637], [-18.5370928, -67.9042571], [-18.5370873, -67.9042506], [-18.5370816, -67.9042439], [-18.5370759, -67.9042372], [-18.5370702, -67.9042303], [-18.5370645, -67.9042235], [-18.5370587, -67.9042167], [-18.5370529, -67.9042097], [-18.5370471, -67.9042028], [-18.5370413, -67.9041959], [-18.5370355, -67.9041889], [-18.5370296, -67.9041819], [-18.5370237, -67.9041749], [-18.5370179, -67.9041678], [-18.537012, -67.9041607], [-18.537006, -67.9041536], [-18.5370001, -67.9041464], [-18.5369942, -67.9041392], [-18.5369883, -67.9041321], [-18.5369823, -67.9041248], [-18.5369764, -67.9041176], [-18.5369705, -67.9041104], [-18.5369646, -67.9041032], [-18.5369586, -67.9040959], [-18.5369527, -67.9040887], [-18.5369468, -67.9040814], [-18.5369408, -67.9040742], [-18.5369349, -67.9040669], [-18.5369289, -67.9040596], [-18.536923, -67.9040523], [-18.5369171, -67.9040451], [-18.5369111, -67.9040377], [-18.5369052, -67.9040303], [-18.5368992, -67.904023], [-18.5368933, -67.9040157], [-18.5368874, -67.9040082], [-18.5368814, -67.9040009], [-18.5368755, -67.9039936], [-18.5368696, -67.9039862], [-18.5368637, -67.9039788], [-18.5368577, -67.9039715], [-18.5368518, -67.9039642], [-18.536846, -67.9039569], [-18.5368402, -67.9039496], [-18.5368343, -67.9039423], [-18.5368286, -67.9039351], [-18.5368228, -67.9039279], [-18.536817, -67.9039207], [-18.5368113, -67.9039136], [-18.5368055, -67.9039065], [-18.5367998, -67.9038994], [-18.536794, -67.9038923], [-18.5367882, -67.9038853], [-18.5367826, -67.9038783], [-18.5367768, -67.9038714], [-18.5367711, -67.9038644], [-18.5367654, -67.9038574], [-18.5367598, -67.9038504], [-18.5367542, -67.9038435], [-18.5367486, -67.9038364], [-18.5367431, -67.9038296], [-18.5367375, -67.9038227], [-18.536732, -67.9038159], [-18.5367264, -67.903809], [-18.5367209, -67.9038022], [-18.5367154, -67.9037954], [-18.5367099, -67.9037886], [-18.5367045, -67.9037818], [-18.536699, -67.9037751], [-18.5366936, -67.9037684], [-18.5366881, -67.9037617], [-18.5366827, -67.903755], [-18.5366773, -67.9037483], [-18.5366719, -67.9037416], [-18.5366665, -67.903735], [-18.5366612, -67.9037284], [-18.5366558, -67.9037218], [-18.5366505, -67.9037153], [-18.5366451, -67.9037086], [-18.5366398, -67.9037021], [-18.5366345, -67.9036955], [-18.5366291, -67.903689], [-18.5366238, -67.9036823], [-18.5366184, -67.9036757], [-18.536613, -67.9036691], [-18.5366077, -67.9036625], [-18.5366023, -67.9036559], [-18.536597, -67.9036493], [-18.5365915, -67.9036426], [-18.5365861, -67.9036359], [-18.5365807, -67.9036293], [-18.5365753, -67.9036226], [-18.5365699, -67.9036159], [-18.5365644, -67.9036092], [-18.5365589, -67.9036025], [-18.5365535, -67.9035957], [-18.5365481, -67.903589], [-18.5365426, -67.9035823], [-18.5365372, -67.9035755], [-18.5365316, -67.9035688], [-18.5365262, -67.903562], [-18.5365207, -67.9035553], [-18.5365152, -67.9035484], [-18.5365096, -67.9035417], [-18.5365041, -67.9035348], [-18.5364986, -67.903528], [-18.536493, -67.9035211], [-18.5364875, -67.9035142], [-18.5364819, -67.9035073], [-18.5364764, -67.9035004], [-18.5364708, -67.9034937], [-18.5364652, -67.9034867], [-18.5364596, -67.9034797], [-18.536454, -67.9034729], [-18.5364483, -67.903466], [-18.5364427, -67.9034591], [-18.536437, -67.903452], [-18.5364313, -67.903445], [-18.5364257, -67.903438], [-18.5364199, -67.903431], [-18.5364142, -67.903424], [-18.5364085, -67.9034169], [-18.5364028, -67.9034099], [-18.536397, -67.9034028], [-18.5363912, -67.9033957], [-18.5363854, -67.9033887], [-18.5363796, -67.9033816], [-18.5363738, -67.9033745], [-18.5363679, -67.9033674], [-18.5363621, -67.9033603], [-18.5363562, -67.9033531], [-18.5363504, -67.9033459], [-18.5363445, -67.9033389], [-18.5363386, -67.9033317], [-18.5363327, -67.9033246], [-18.5363268, -67.9033174], [-18.5363209, -67.9033102], [-18.536315, -67.903303], [-18.536309, -67.9032958], [-18.5363031, -67.9032885], [-18.5362971, -67.9032814], [-18.5362912, -67.9032741], [-18.5362852, -67.9032668], [-18.5362792, -67.9032596], [-18.5362732, -67.9032523], [-18.5362673, -67.903245], [-18.5362612, -67.9032377], [-18.5362553, -67.9032304], [-18.5362493, -67.9032231], [-18.5362432, -67.9032158], [-18.5362372, -67.9032085], [-18.5362311, -67.9032012], [-18.536225, -67.9031939], [-18.536219, -67.9031864], [-18.5362129, -67.903179], [-18.5362068, -67.9031717], [-18.5362007, -67.9031643], [-18.5361946, -67.903157], [-18.5361885, -67.9031496], [-18.5361824, -67.9031422], [-18.5361762, -67.9031348], [-18.53617, -67.9031273], [-18.5361639, -67.9031199], [-18.5361577, -67.9031125], [-18.5361516, -67.9031051], [-18.5361454, -67.9030977], [-18.5361392, -67.9030902], [-18.536133, -67.9030828], [-18.5361268, -67.9030753], [-18.5361206, -67.9030678], [-18.5361143, -67.9030604], [-18.536108, -67.9030529], [-18.5361018, -67.9030453], [-18.5360955, -67.9030379], [-18.5360893, -67.9030303], [-18.536083, -67.9030227], [-18.5360767, -67.9030152], [-18.5360706, -67.9030077], [-18.5360644, -67.903], [-18.5360581, -67.9029925], [-18.5360518, -67.9029849], [-18.5360456, -67.9029773], [-18.5360394, -67.9029697], [-18.5360331, -67.9029621], [-18.5360268, -67.9029545], [-18.5360205, -67.9029468], [-18.5360142, -67.9029391], [-18.5360078, -67.9029313], [-18.5360015, -67.9029236], [-18.535995, -67.9029157], [-18.5359885, -67.9029079], [-18.535982, -67.9029], [-18.5359755, -67.902892], [-18.5359688, -67.902884], [-18.5359622, -67.902876], [-18.5359556, -67.9028679], [-18.5359488, -67.9028598], [-18.5359419, -67.9028515], [-18.5359351, -67.9028432], [-18.5359283, -67.9028349], [-18.5359215, -67.9028268], [-18.5359146, -67.9028186], [-18.5359078, -67.9028102], [-18.535901, -67.902802], [-18.5358941, -67.9027937], [-18.5358873, -67.9027855], [-18.5358805, -67.9027772], [-18.5358737, -67.9027688], [-18.5358668, -67.9027606], [-18.53586, -67.9027523], [-18.5358531, -67.9027439], [-18.5358463, -67.9027356], [-18.5358394, -67.9027273], [-18.5358325, -67.902719], [-18.5358255, -67.9027105], [-18.5358184, -67.902702], [-18.5358114, -67.9026936], [-18.5358042, -67.9026848], [-18.535797, -67.9026761], [-18.5357898, -67.9026675], [-18.5357826, -67.9026586], [-18.5357753, -67.9026499], [-18.5357679, -67.902641], [-18.5357605, -67.9026321], [-18.5357532, -67.9026231], [-18.5357456, -67.9026142], [-18.5357382, -67.902605], [-18.5357307, -67.9025959], [-18.5357232, -67.9025868], [-18.5357156, -67.9025775], [-18.535708, -67.9025683], [-18.5357003, -67.9025591], [-18.5356926, -67.9025498], [-18.5356848, -67.9025405], [-18.5356772, -67.902531], [-18.5356694, -67.9025217], [-18.5356615, -67.9025122], [-18.5356537, -67.9025028], [-18.5356458, -67.9024932], [-18.5356379, -67.9024836], [-18.53563, -67.902474], [-18.535622, -67.9024643], [-18.535614, -67.9024547], [-18.535606, -67.9024449], [-18.535598, -67.9024352], [-18.5355899, -67.9024255], [-18.5355817, -67.9024157], [-18.5355736, -67.9024059], [-18.5355653, -67.9023961], [-18.5355571, -67.9023862], [-18.5355489, -67.9023763], [-18.5355406, -67.9023665], [-18.5355323, -67.9023565], [-18.535524, -67.9023465], [-18.5355156, -67.9023365], [-18.5355072, -67.9023265], [-18.5354988, -67.9023163], [-18.5354903, -67.9023062], [-18.5354819, -67.9022961], [-18.5354734, -67.9022859], [-18.535465, -67.9022757], [-18.5354564, -67.9022654], [-18.5354479, -67.9022551], [-18.5354393, -67.9022449], [-18.5354307, -67.9022346], [-18.5354221, -67.9022242], [-18.5354135, -67.9022138], [-18.5354049, -67.9022034], [-18.5353961, -67.902193], [-18.5353874, -67.9021826], [-18.5353786, -67.9021721], [-18.5353699, -67.9021615], [-18.5353611, -67.9021511], [-18.5353523, -67.9021404], [-18.5353435, -67.9021299], [-18.5353347, -67.9021192], [-18.5353258, -67.9021086], [-18.535317, -67.9020979], [-18.5353081, -67.9020871], [-18.5352992, -67.9020764], [-18.5352903, -67.9020655], [-18.5352814, -67.9020548], [-18.5352724, -67.902044], [-18.5352634, -67.9020331], [-18.5352544, -67.9020222], [-18.5352455, -67.9020113], [-18.5352364, -67.9020005], [-18.5352274, -67.9019894], [-18.5352183, -67.9019784], [-18.5352093, -67.9019675], [-18.5352002, -67.9019564], [-18.535191, -67.9019454], [-18.5351819, -67.9019343], [-18.5351728, -67.9019232], [-18.5351637, -67.9019122], [-18.5351546, -67.9019009], [-18.5351454, -67.9018898], [-18.5351363, -67.9018787], [-18.5351271, -67.9018674], [-18.5351179, -67.9018561], [-18.5351087, -67.9018449], [-18.5350995, -67.9018336], [-18.5350903, -67.9018222], [-18.535081, -67.901811], [-18.5350718, -67.9017995], [-18.5350626, -67.9017882], [-18.5350532, -67.9017769], [-18.535044, -67.9017654], [-18.5350347, -67.901754], [-18.5350254, -67.9017425], [-18.5350161, -67.9017311], [-18.5350068, -67.9017197], [-18.5349975, -67.9017082], [-18.5349882, -67.9016967], [-18.5349789, -67.9016853], [-18.5349695, -67.9016738], [-18.53496, -67.9016624], [-18.5349507, -67.901651], [-18.5349414, -67.9016395], [-18.5349318, -67.9016282], [-18.5349225, -67.9016167], [-18.534913, -67.9016053], [-18.5349036, -67.9015938], [-18.5348941, -67.9015825], [-18.5348846, -67.901571], [-18.5348751, -67.9015596], [-18.5348657, -67.9015483], [-18.5348562, -67.9015368], [-18.5348466, -67.9015254], [-18.5348371, -67.901514], [-18.5348275, -67.9015026], [-18.534818, -67.9014912], [-18.5348084, -67.9014797], [-18.5347988, -67.9014683], [-18.5347893, -67.9014569], [-18.5347797, -67.9014453], [-18.5347701, -67.9014339], [-18.5347606, -67.9014224], [-18.5347511, -67.9014109], [-18.5347415, -67.9013994], [-18.5347319, -67.9013879], [-18.5347224, -67.9013763], [-18.5347128, -67.9013648], [-18.5347033, -67.9013533], [-18.5346937, -67.9013417], [-18.5346841, -67.9013301], [-18.5346746, -67.9013186], [-18.534665, -67.901307], [-18.5346555, -67.9012954], [-18.5346459, -67.9012838], [-18.5346363, -67.9012722], [-18.5346268, -67.9012606], [-18.5346172, -67.901249], [-18.5346077, -67.9012374], [-18.5345981, -67.9012258], [-18.5345886, -67.9012142], [-18.5345791, -67.9012026], [-18.5345695, -67.901191], [-18.53456, -67.9011793], [-18.5345505, -67.9011677], [-18.5345409, -67.901156], [-18.5345314, -67.9011444], [-18.5345218, -67.9011327], [-18.5345123, -67.9011211], [-18.5345027, -67.9011094], [-18.5344931, -67.9010977], [-18.5344836, -67.9010861], [-18.534474, -67.9010744], [-18.5344645, -67.9010627], [-18.5344549, -67.9010511], [-18.5344454, -67.9010395], [-18.5344358, -67.9010279], [-18.5344263, -67.9010163], [-18.5344168, -67.9010047], [-18.5344073, -67.9009932], [-18.5343978, -67.9009817], [-18.5343883, -67.9009702], [-18.5343788, -67.9009587], [-18.5343693, -67.9009472], [-18.5343599, -67.9009358], [-18.5343504, -67.9009243], [-18.5343409, -67.9009129], [-18.5343314, -67.9009016], [-18.5343219, -67.9008902], [-18.5343124, -67.9008788], [-18.5343029, -67.9008675], [-18.5342935, -67.9008562], [-18.534284, -67.9008448], [-18.5342745, -67.9008335], [-18.534265, -67.9008221], [-18.5342555, -67.9008108], [-18.534246, -67.9007995], [-18.5342365, -67.9007882], [-18.534227, -67.9007768], [-18.5342175, -67.9007655], [-18.534208, -67.9007543], [-18.5341985, -67.9007429], [-18.534189, -67.9007316], [-18.5341795, -67.9007202], [-18.5341699, -67.9007089], [-18.5341604, -67.9006976], [-18.5341509, -67.9006862], [-18.5341414, -67.9006749], [-18.5341318, -67.9006636], [-18.5341223, -67.9006523], [-18.5341128, -67.9006409], [-18.5341033, -67.9006296], [-18.5340937, -67.9006183], [-18.5340842, -67.9006069], [-18.5340747, -67.9005956], [-18.5340652, -67.9005842], [-18.5340557, -67.9005729], [-18.5340462, -67.9005615], [-18.5340367, -67.9005502], [-18.5340273, -67.9005388], [-18.5340178, -67.9005275], [-18.5340084, -67.9005161], [-18.533999, -67.9005048], [-18.5339896, -67.9004935], [-18.5339802, -67.9004822], [-18.5339708, -67.9004709], [-18.5339614, -67.9004596], [-18.5339521, -67.9004483], [-18.5339427, -67.900437], [-18.5339333, -67.9004257], [-18.5339241, -67.9004145], [-18.5339147, -67.9004033], [-18.5339054, -67.900392], [-18.5338961, -67.9003808], [-18.5338868, -67.9003696], [-18.5338775, -67.9003584], [-18.5338682, -67.9003471], [-18.533859, -67.9003359], [-18.5338497, -67.9003248], [-18.5338405, -67.9003136], [-18.5338313, -67.9003025], [-18.5338221, -67.9002914], [-18.533813, -67.9002803], [-18.5338038, -67.9002693], [-18.5337947, -67.9002583], [-18.5337856, -67.9002472], [-18.5337765, -67.9002363], [-18.5337675, -67.9002254], [-18.5337585, -67.9002144], [-18.5337495, -67.9002035], [-18.5337405, -67.9001927], [-18.5337316, -67.9001818], [-18.5337226, -67.900171], [-18.5337137, -67.9001603], [-18.5337049, -67.9001495], [-18.533696, -67.9001387], [-18.5336872, -67.9001281], [-18.5336785, -67.9001175], [-18.5336698, -67.9001069], [-18.5336611, -67.9000965], [-18.5336525, -67.900086], [-18.533644, -67.9000756], [-18.5336355, -67.9000654], [-18.5336271, -67.9000551], [-18.5336188, -67.900045], [-18.5336105, -67.900035], [-18.5336023, -67.900025], [-18.5335942, -67.9000152], [-18.5335862, -67.9000054], [-18.5335782, -67.8999958], [-18.5335703, -67.8999862], [-18.5335624, -67.8999767], [-18.5335547, -67.8999674], [-18.5335471, -67.8999581], [-18.5335395, -67.8999488], [-18.533532, -67.8999397], [-18.5335246, -67.8999307], [-18.5335172, -67.8999218], [-18.53351, -67.899913], [-18.5335028, -67.8999043], [-18.5334957, -67.8998956], [-18.5334887, -67.899887], [-18.5334819, -67.8998785], [-18.5334751, -67.8998701], [-18.5334685, -67.8998617], [-18.5334619, -67.8998535], [-18.5334555, -67.8998454], [-18.5334491, -67.8998374], [-18.5334429, -67.8998294], [-18.5334368, -67.8998216], [-18.5334307, -67.8998138], [-18.5334248, -67.8998062], [-18.533419, -67.8997987], [-18.5334132, -67.8997912], [-18.5334075, -67.8997839], [-18.5334019, -67.8997767], [-18.5333965, -67.8997697], [-18.5333912, -67.8997627], [-18.5333859, -67.899756], [-18.5333808, -67.8997492], [-18.5333758, -67.8997428], [-18.5333708, -67.8997363], [-18.5333661, -67.8997299], [-18.5333613, -67.8997237], [-18.5333567, -67.8997175], [-18.5333522, -67.8997115], [-18.5333478, -67.8997057], [-18.5333433, -67.8996998], [-18.533339, -67.899694], [-18.5333347, -67.8996884], [-18.5333306, -67.8996826], [-18.5333267, -67.8996769], [-18.5333228, -67.8996712], [-18.5333191, -67.8996656], [-18.5333154, -67.89966], [-18.5333118, -67.8996545], [-18.5333084, -67.899649], [-18.533305, -67.8996436], [-18.5333017, -67.8996382], [-18.5332985, -67.8996328], [-18.5332953, -67.8996275], [-18.5332923, -67.8996224], [-18.5332893, -67.8996172], [-18.5332863, -67.8996122], [-18.5332834, -67.8996072], [-18.5332806, -67.8996023], [-18.5332779, -67.8995974], [-18.5332752, -67.8995927], [-18.5332726, -67.899588], [-18.5332701, -67.8995834], [-18.5332675, -67.8995791], [-18.533265, -67.8995748], [-18.5332625, -67.8995707], [-18.5332601, -67.8995668], [-18.5332577, -67.8995629], [-18.5332553, -67.8995592], [-18.5332529, -67.8995558], [-18.5332505, -67.8995525], [-18.533248, -67.8995495], [-18.5332456, -67.8995466], [-18.5332434, -67.8995439], [-18.5332413, -67.8995413], [-18.5332393, -67.8995388], [-18.5332373, -67.8995365], [-18.5332355, -67.8995344], [-18.5332336, -67.8995325], [-18.533232, -67.8995307], [-18.5332305, -67.8995291], [-18.533229, -67.8995277], [-18.5332278, -67.8995262], [-18.5332269, -67.8995248], [-18.533226, -67.8995237], [-18.533225, -67.8995227], [-18.5332242, -67.8995219], [-18.5332235, -67.8995212], [-18.5332228, -67.8995206], [-18.5332224, -67.8995201], [-18.533222, -67.8995197], [-18.5332217, -67.8995194], [-18.5332215, -67.8995191], [-18.5332213, -67.8995188], [-18.5332212, -67.8995187], [-18.5332211, -67.8995186], [-18.5332211, -67.8995186], [-18.5332211, -67.8995186], [-18.5332212, -67.8995187], [-18.5332212, -67.8995187], [-18.5332212, -67.8995186], [-18.5332213, -67.8995186], [-18.5332213, -67.8995186], [-18.5332213, -67.8995186], [-18.5332213, -67.8995186]],\n",
              "                {&quot;bubblingMouseEvents&quot;: true, &quot;color&quot;: &quot;blue&quot;, &quot;dashArray&quot;: null, &quot;dashOffset&quot;: null, &quot;fill&quot;: false, &quot;fillColor&quot;: &quot;blue&quot;, &quot;fillOpacity&quot;: 0.2, &quot;fillRule&quot;: &quot;evenodd&quot;, &quot;lineCap&quot;: &quot;round&quot;, &quot;lineJoin&quot;: &quot;round&quot;, &quot;noClip&quot;: false, &quot;opacity&quot;: 1, &quot;smoothFactor&quot;: 1.0, &quot;stroke&quot;: true, &quot;weight&quot;: 2.5}\n",
              "            ).addTo(map_53df59c62797c5f4e225a54a797608ee);\n",
              "        \n",
              "&lt;/script&gt;\n",
              "&lt;/html&gt;\" style=\"position:absolute;width:100%;height:100%;left:0;top:0;border:none !important;\" allowfullscreen webkitallowfullscreen mozallowfullscreen></iframe></div></div>"
            ]
          },
          "metadata": {},
          "execution_count": 19
        }
      ]
    }
  ]
}